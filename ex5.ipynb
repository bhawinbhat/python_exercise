{
 "cells": [
  {
   "cell_type": "markdown",
   "metadata": {},
   "source": [
    "#### 1. File Head Display\n",
    "Write a program that asks the user for the name of a file. The program should display\n",
    "only the first five lines of the file’s contents. If the file contains less than five lines, it\n",
    "should display the file’s entire contents."
   ]
  },
  {
   "cell_type": "code",
   "execution_count": 2,
   "metadata": {},
   "outputs": [
    {
     "name": "stdout",
     "output_type": "stream",
     "text": [
      "Enter your filename: outsource.txt\n",
      "Business Process Outsourcing Issues\n",
      "Loss of control. Organizations generally have greater control on internal activities.\n",
      "When activities are out-sourced, the vendor exercises primary control on day-to-day\n",
      "activities, and any failure on the part of the vendor will directly impact the client.\n",
      "Potential loss of organizational learning. Innovation and creativity are critical in a\n"
     ]
    }
   ],
   "source": [
    "filename = input(\"Enter your filename: \")\n",
    "\n",
    "with open(filename) as file:\n",
    "    text = file.readlines()\n",
    "\n",
    "if len(text) < 5:\n",
    "    for line in text:\n",
    "        print(text.rstrip())\n",
    "else:\n",
    "    for i in range(5):\n",
    "        print(text[i].rstrip())"
   ]
  },
  {
   "cell_type": "markdown",
   "metadata": {},
   "source": [
    "#### 2. Average and Sum of Numbers\n",
    "Assume that a file containing a series of integers is named numbers.txt and exists\n",
    "on the computer’s disk. Write a program that reads all of the numbers stored in the\n",
    "file and calculates their average and total."
   ]
  },
  {
   "cell_type": "code",
   "execution_count": 3,
   "metadata": {},
   "outputs": [
    {
     "name": "stdout",
     "output_type": "stream",
     "text": [
      "The average is 40.1\n",
      "The total is 401\n"
     ]
    }
   ],
   "source": [
    "with open(\"numbers.txt\") as file:\n",
    "    numbers = file.readlines()\n",
    "\n",
    "for i, num in enumerate(numbers):\n",
    "    numbers[i] = int(num.rstrip())\n",
    "\n",
    "print(\"The average is\", sum(numbers)/len(numbers))\n",
    "print(\"The total is\", sum(numbers))"
   ]
  },
  {
   "cell_type": "markdown",
   "metadata": {},
   "source": [
    "#### 3. Exception Handing\n",
    "Write a program that asks the user for the name of a file. The program should read all\n",
    "of the file’s data into a list and display the number of lines of data that the file\n",
    "contains, and then ask the user to enter the number of the line that they want to view.\n",
    "The program should display the specified line.\n",
    "The program should handle the following exceptions by displaying an error\n",
    "messages:\n",
    "* FileNotFoundError exceptions that are raised when the specified filename\n",
    "cannot be founded or opened.\n",
    "* ValueError exceptions that are raised when a non-integer value is given as a\n",
    "line number.\n",
    "* IndexError exceptions that are raised when the line number is outside the range\n",
    "of the data list."
   ]
  },
  {
   "cell_type": "code",
   "execution_count": 5,
   "metadata": {},
   "outputs": [
    {
     "name": "stdout",
     "output_type": "stream",
     "text": [
      "enter your filename: outsource.txt\n",
      "Which line do you want to read: 2\n",
      "In line 2 :\n",
      "When activities are out-sourced, the vendor exercises primary control on day-to-day\n",
      "\n"
     ]
    }
   ],
   "source": [
    "filename = input(\"enter your filename: \")\n",
    "line_index = input(\"Which line do you want to read: \")\n",
    "try:\n",
    "    with open(filename) as file:\n",
    "        text = file.readlines()\n",
    "except FileNotFoundError:\n",
    "    print(\"Wrong file name! Please enter proper filename: \")\n",
    "\n",
    "try:\n",
    "    line_index = int(line_index)\n",
    "except ValueError:\n",
    "    print(\"line shoud be an integer!\")\n",
    "finally:\n",
    "    try:\n",
    "        print(\"In line\", line_index, \":\")\n",
    "        print(text[line_index])\n",
    "    except IndexError:\n",
    "        print(\"the line number is out or range\")"
   ]
  },
  {
   "cell_type": "markdown",
   "metadata": {},
   "source": [
    "#### 4.Average Weight  \n",
    "Write a program that reads weights.csv file, which contains a person’s daily\n",
    "weights, and then computes the average weight and write that into another csv file. In\n",
    "other words, we copy the old file to a new one and add an additional line that contains\n",
    "the average of all the weight values.\n",
    "\n",
    "The content of weights.csv file is as follows:  \n",
    "Date,Weight  \n",
    "5/1/2016,142  \n",
    "5/2/2016,143  \n",
    "5/3/2016,140  \n",
    "5/4/2016,141  \n",
    "5/5/2016,142  \n",
    "5/6/2016,141  \n",
    "5/7/2016,143"
   ]
  },
  {
   "cell_type": "code",
   "execution_count": 6,
   "metadata": {},
   "outputs": [
    {
     "name": "stdout",
     "output_type": "stream",
     "text": [
      "141.71428571428572\n"
     ]
    }
   ],
   "source": [
    "import csv\n",
    "\n",
    "table_dict = dict()\n",
    "with open('weights.csv') as file:\n",
    "    reader = csv.DictReader(file)\n",
    "    header = reader.fieldnames\n",
    "    for row in reader:\n",
    "        table_dict[row['Date']] = int(row['Weight'])\n",
    "\n",
    "avg_weight = sum(table_dict.values())/len(table_dict)\n",
    "print(avg_weight)\n",
    "table = []\n",
    "for key in table_dict:\n",
    "    table.append({'Date': key, 'Weight': table_dict.get(key)})\n",
    "table.append({'Date': 'average_weight', 'Weight': avg_weight})\n",
    "\n",
    "with open(\"weights2.csv\", 'w', newline=\"\") as file:\n",
    "    fieldnames = table[0].keys()\n",
    "    writer = csv.DictWriter(file, fieldnames=fieldnames)\n",
    "    writer.writeheader()\n",
    "    writer.writerows(table)"
   ]
  },
  {
   "cell_type": "markdown",
   "metadata": {},
   "source": [
    "#### 5. Contact List\n",
    "Write a program that reads your friend’s name and his/her phone number as keyboard\n",
    "input, and then save these as records in a csv file. (Each record will have a field for\n",
    "your friend’s name and a field for his/her phone number.)\n",
    "* To exit, you enter a blank name (i.e., just press return or enter).\n",
    "* Do not print anything until you have the phone number and do not get the phone\n",
    "number until you know the user is not quiting."
   ]
  },
  {
   "cell_type": "code",
   "execution_count": 9,
   "metadata": {},
   "outputs": [
    {
     "name": "stdout",
     "output_type": "stream",
     "text": [
      "Enter a friend's name, press return to end: Aum\n",
      "Enter your friend's phone: 081-111-1111\n",
      "Aum\n",
      "081-111-1111\n",
      "Enter a friend's name, press return to end: Lach\n",
      "Enter your friend's phone: 082-222-2222\n",
      "Lach\n",
      "082-222-2222\n",
      "Enter a friend's name, press return to end: Pat\n",
      "Enter your friend's phone: 083-333-3333\n",
      "Pat\n",
      "083-333-3333\n",
      "Enter a friend's name, press return to end: \n"
     ]
    }
   ],
   "source": [
    "import csv\n",
    "table = []\n",
    "while True:\n",
    "    name = input(\"Enter a friend's name, press return to end: \")\n",
    "    if name == \"\":\n",
    "        if len(table) == 0:\n",
    "            break\n",
    "        with open(\"freind_contact.csv\", 'w', newline=\"\") as file:\n",
    "            fieldnames = table[0].keys()\n",
    "            writer = csv.DictWriter(file, fieldnames=fieldnames)\n",
    "            writer.writeheader()\n",
    "            writer.writerows(table)\n",
    "        break\n",
    "    phone_number = input(\"Enter your friend's phone: \")\n",
    "    print(name)\n",
    "    print(phone_number)\n",
    "    table.append({'name': name, 'phone_number': phone_number})"
   ]
  },
  {
   "cell_type": "markdown",
   "metadata": {},
   "source": [
    "#### 6. Canadian Census Data\n",
    "In this exercise, you will create a table to store the population and land area of the\n",
    "Canadian provinces and territories according to the 2001 census   \n",
    "(See Table 1\\). Write Python code that does the following:"
   ]
  },
  {
   "cell_type": "markdown",
   "metadata": {},
   "source": [
    " a) Creates a new database called census.db "
   ]
  },
  {
   "cell_type": "code",
   "execution_count": 39,
   "metadata": {
    "collapsed": true
   },
   "outputs": [],
   "source": [
    "import sqlite3\n",
    "conn = sqlite3.connect(\"cencus.db\")\n",
    "cur = conn.cursor()"
   ]
  },
  {
   "cell_type": "markdown",
   "metadata": {},
   "source": [
    " b) Makes a database table called density that will hold the name of the province or\n",
    "territory (TEXT), the population (INTEGER), and the land area (REAL). "
   ]
  },
  {
   "cell_type": "code",
   "execution_count": 40,
   "metadata": {},
   "outputs": [
    {
     "data": {
      "text/plain": [
       "<sqlite3.Cursor at 0x349dba0>"
      ]
     },
     "execution_count": 40,
     "metadata": {},
     "output_type": "execute_result"
    }
   ],
   "source": [
    "cur.execute(\"DROP TABLE IF EXISTS density\")\n",
    "cur.execute('''\\\n",
    "    CREATE TABLE IF NOT EXISTS density (\n",
    "            province    TEXT NOT NULL,\n",
    "            population  INTEGER,\n",
    "            area        REAL\n",
    "    )\n",
    "''')"
   ]
  },
  {
   "cell_type": "markdown",
   "metadata": {},
   "source": [
    " c) Inserts the data from the Table 1. "
   ]
  },
  {
   "cell_type": "code",
   "execution_count": 41,
   "metadata": {
    "collapsed": true
   },
   "outputs": [],
   "source": [
    "data = [('Newfoundland and Labrador', 512930, 370501.69),\n",
    "        ('Prince Edward Island', 135294, 5684.39),\n",
    "        ('Nova Scotta', 908007, 52917.43),\n",
    "        ('New Brunswick', 729498, 71355.67),\n",
    "        ('Quebec', 7237479, 1357743.08),\n",
    "        ('Ontario', 11410046, 907655.59),\n",
    "        ('Marnitoba', 1119583, 551937.87),\n",
    "        ('Saskatchewan', 978933, 586561.35),\n",
    "        ('Alberta', 2974807, 639987.12),\n",
    "        ('British Columbia', 3907738, 926492.48),\n",
    "        ('Yukon Territory', 28674, 474706.97),\n",
    "        ('Northwest Territories', 37360, 1141108.37),\n",
    "        ('Nunavut', 26745, 1925460.18)]\n",
    "sql_insert = '''\n",
    "    INSERT INTO density (province, population, area)\n",
    "    VALUES (?, ?, ?)\n",
    "    '''\n",
    "\n",
    "for obs in data:\n",
    "    cur.execute(sql_insert, obs)\n",
    "conn.commit()"
   ]
  },
  {
   "cell_type": "markdown",
   "metadata": {},
   "source": [
    " d) Retrieves the contents of the table. "
   ]
  },
  {
   "cell_type": "code",
   "execution_count": 42,
   "metadata": {},
   "outputs": [
    {
     "name": "stdout",
     "output_type": "stream",
     "text": [
      "Newfoundland and Labrador         512,930      370,501.69\n",
      "Prince Edward Island              135,294        5,684.39\n",
      "Nova Scotta                       908,007       52,917.43\n",
      "New Brunswick                     729,498       71,355.67\n",
      "Quebec                          7,237,479    1,357,743.08\n",
      "Ontario                        11,410,046      907,655.59\n",
      "Marnitoba                       1,119,583      551,937.87\n",
      "Saskatchewan                      978,933      586,561.35\n",
      "Alberta                         2,974,807      639,987.12\n",
      "British Columbia                3,907,738      926,492.48\n",
      "Yukon Territory                    28,674      474,706.97\n",
      "Northwest Territories              37,360    1,141,108.37\n",
      "Nunavut                            26,745    1,925,460.18\n"
     ]
    }
   ],
   "source": [
    "cur.execute(\"SELECT * FROM density\")\n",
    "for row in cur:\n",
    "    print(\"{:<30} {:>10,} {:>15,}\".format(*row))"
   ]
  },
  {
   "cell_type": "markdown",
   "metadata": {},
   "source": [
    " e) Retrieves the populations. "
   ]
  },
  {
   "cell_type": "code",
   "execution_count": 43,
   "metadata": {},
   "outputs": [
    {
     "name": "stdout",
     "output_type": "stream",
     "text": [
      "   512,930\n",
      "   135,294\n",
      "   908,007\n",
      "   729,498\n",
      " 7,237,479\n",
      "11,410,046\n",
      " 1,119,583\n",
      "   978,933\n",
      " 2,974,807\n",
      " 3,907,738\n",
      "    28,674\n",
      "    37,360\n",
      "    26,745\n"
     ]
    }
   ],
   "source": [
    "cur.execute(\"SELECT population FROM density\")\n",
    "for row in cur:\n",
    "    print(\"{:>10,}\".format(*row))"
   ]
  },
  {
   "cell_type": "markdown",
   "metadata": {},
   "source": [
    " f) Retrieves the provinces that have populations of less than one million. "
   ]
  },
  {
   "cell_type": "code",
   "execution_count": 32,
   "metadata": {},
   "outputs": [
    {
     "name": "stdout",
     "output_type": "stream",
     "text": [
      "Nunavut                            26,745\n",
      "Yukon Territory                    28,674\n",
      "Northwest Territories              37,360\n",
      "Prince Edward Island              135,294\n",
      "Newfoundland and Labrador         512,930\n",
      "New Brunswick                     729,498\n",
      "Nova Scotta                       908,007\n",
      "Saskatchewan                      978,933\n"
     ]
    }
   ],
   "source": [
    "cur.execute('''\n",
    "    SELECT province,population\n",
    "    FROM density \n",
    "    WHERE population<1000000\n",
    "    ORDER By population\n",
    "''')\n",
    "for row in cur:\n",
    "    print(\"{:<30} {:>10,}\".format(*row))"
   ]
  },
  {
   "cell_type": "markdown",
   "metadata": {},
   "source": [
    " g) Retrieves the provinces that have populations of less than one million or greater\n",
    "than five million. "
   ]
  },
  {
   "cell_type": "code",
   "execution_count": 44,
   "metadata": {},
   "outputs": [
    {
     "name": "stdout",
     "output_type": "stream",
     "text": [
      "Nunavut                            26,745\n",
      "Yukon Territory                    28,674\n",
      "Northwest Territories              37,360\n",
      "Prince Edward Island              135,294\n",
      "Newfoundland and Labrador         512,930\n",
      "New Brunswick                     729,498\n",
      "Nova Scotta                       908,007\n",
      "Saskatchewan                      978,933\n",
      "Quebec                          7,237,479\n",
      "Ontario                        11,410,046\n"
     ]
    }
   ],
   "source": [
    "cur.execute('''\n",
    "    SELECT province, population\n",
    "    FROM density\n",
    "    WHERE population<1000000 or population>5000000\n",
    "    ORDER By population\n",
    "''')\n",
    "for row in cur:\n",
    "    print(\"{:<30} {:>10,}\".format(*row))"
   ]
  },
  {
   "cell_type": "markdown",
   "metadata": {},
   "source": [
    " h) Retrieves the provinces that do not have populations of less than one million or\n",
    "greater than five million. "
   ]
  },
  {
   "cell_type": "code",
   "execution_count": 46,
   "metadata": {},
   "outputs": [
    {
     "name": "stdout",
     "output_type": "stream",
     "text": [
      "Marnitoba                       1,119,583\n",
      "Alberta                         2,974,807\n",
      "British Columbia                3,907,738\n"
     ]
    }
   ],
   "source": [
    "cur.execute('''\n",
    "    SELECT province, population\n",
    "    FROM density\n",
    "    WHERE population>=1000000 and population<=5000000\n",
    "    ORDER By population\n",
    "''')\n",
    "for row in cur:\n",
    "    print(\"{:<30} {:>10,}\".format(*row))"
   ]
  },
  {
   "cell_type": "markdown",
   "metadata": {},
   "source": [
    " i) Retrieves the populations of provinces that have a land area greater than 200,000\n",
    "square kilometers. "
   ]
  },
  {
   "cell_type": "code",
   "execution_count": 60,
   "metadata": {},
   "outputs": [
    {
     "name": "stdout",
     "output_type": "stream",
     "text": [
      "   512,930      370,501.69   Newfoundland and Labrador     \n",
      "    28,674      474,706.97   Yukon Territory               \n",
      " 1,119,583      551,937.87   Marnitoba                     \n",
      "   978,933      586,561.35   Saskatchewan                  \n",
      " 2,974,807      639,987.12   Alberta                       \n",
      "11,410,046      907,655.59   Ontario                       \n",
      " 3,907,738      926,492.48   British Columbia              \n",
      "    37,360    1,141,108.37   Northwest Territories         \n",
      " 7,237,479    1,357,743.08   Quebec                        \n",
      "    26,745    1,925,460.18   Nunavut                       \n"
     ]
    }
   ],
   "source": [
    "cur.execute('''\n",
    "    SELECT population, area, province\n",
    "    FROM density\n",
    "    WHERE area>200000\n",
    "    ORDER BY area\n",
    "''')\n",
    "for row in cur:\n",
    "    print(\"{:>10,} {:>15,}   {:<30}\".format(*row))"
   ]
  },
  {
   "cell_type": "markdown",
   "metadata": {},
   "source": [
    " j) Retrieves the provinces along with their population densities (population divided\n",
    "by land area). "
   ]
  },
  {
   "cell_type": "code",
   "execution_count": 63,
   "metadata": {},
   "outputs": [
    {
     "name": "stdout",
     "output_type": "stream",
     "text": [
      "Newfoundland and Labrador          1.38\n",
      "Prince Edward Island               23.8\n",
      "Nova Scotta                       17.16\n",
      "New Brunswick                     10.22\n",
      "Quebec                             5.33\n",
      "Ontario                           12.57\n",
      "Marnitoba                          2.03\n",
      "Saskatchewan                       1.67\n",
      "Alberta                            4.65\n",
      "British Columbia                   4.22\n",
      "Yukon Territory                    0.06\n",
      "Northwest Territories              0.03\n",
      "Nunavut                            0.01\n"
     ]
    }
   ],
   "source": [
    "cur.execute('''\n",
    "    SELECT province, round(population/area, 2) AS \"density\"\n",
    "    FROM density\n",
    "''')\n",
    "for row in cur:\n",
    "    print(\"{:<30} {:8}\".format(*row))"
   ]
  },
  {
   "cell_type": "code",
   "execution_count": 64,
   "metadata": {
    "collapsed": true
   },
   "outputs": [],
   "source": [
    "cur.close()\n",
    "conn.close()"
   ]
  },
  {
   "cell_type": "markdown",
   "metadata": {},
   "source": [
    "#### 7. Contact Database\n",
    "Write a program that creates a new database called contact.db and a database table\n",
    "called phones that stores data that is read from phones.csv file.\n",
    "\n",
    "The content of phones.csv file is as follows:  \n",
    "george,836-­‐6025  \n",
    "jackson,837-­‐6501  \n",
    "emma,617-­‐4378  \n",
    "sophia,539-­‐8147  \n",
    "aiden,213-­‐4567  \n",
    "olivia,782-­‐3737  \n",
    "liam,347-­‐9038  "
   ]
  },
  {
   "cell_type": "code",
   "execution_count": 65,
   "metadata": {},
   "outputs": [
    {
     "name": "stdout",
     "output_type": "stream",
     "text": [
      "george     836-6025  \n",
      "jackson    837-6501  \n",
      "emma       617-4378  \n",
      "sophia     539-8147  \n",
      "aiden      213-4567  \n",
      "olivia     782-3737  \n",
      "liam       347-9038  \n"
     ]
    }
   ],
   "source": [
    "import csv\n",
    "import sqlite3\n",
    "table = []\n",
    "with open(\"phones.csv\") as file:\n",
    "    reader = csv.reader(file)\n",
    "    for row in reader:\n",
    "        table.append(tuple(row))\n",
    "\n",
    "conn = sqlite3.connect('contact.db')\n",
    "cur = conn.cursor()\n",
    "\n",
    "cur.execute(\"DROP TABLE IF EXISTS contact\")\n",
    "cur.execute('''\\\n",
    "    CREATE TABLE IF NOT EXISTS contact (\n",
    "            name VARCHAR(255),\n",
    "            phone_number VARCHAR(8)\n",
    "    )\n",
    "''')\n",
    "\n",
    "sql_insert = \"INSERT INTO contact (name, phone_number) VALUES (?, ?)\"\n",
    "\n",
    "for row in table:\n",
    "    cur.execute(sql_insert, row)\n",
    "conn.commit()\n",
    "\n",
    "cur.execute(\"SELECT * FROM contact\")\n",
    "for row in cur:\n",
    "    print(\"{:<10} {:<10}\".format(*row))\n",
    "\n",
    "cur.close()\n",
    "conn.close()"
   ]
  },
  {
   "cell_type": "markdown",
   "metadata": {},
   "source": [
    "#### 8. File Encryption and Decryption\n",
    "Write a program that uses a dictionary to assign “codes” to each letter of the alphabet.\n",
    "For example:\n",
    "    \n",
    "`\n",
    "codes = {'A':')','a':'0','B':'(','b':'9','C':'*','c':'8',\n",
    "         'D':'&','d':'7','E':'^','e':'6','F':'%','f':'5',\n",
    "         'G':'$','g':'4','H':'#','h':'3','I':'@','i':'2',\n",
    "         'J':'!','j':'1','K':'Z','k':'z','L':'Y','l':'y',\n",
    "         'M':'X','m':'x','N':'W','n':'w','O':'V','o':'v',\n",
    "         'P':'U','p':'u','Q':'T','q':'t','R':'S','r':'s',\n",
    "         'S':'R','s':'r','T':'Q','t':'q','U':'P','u':'p',\n",
    "         'V':'O','v':'o','W':'N','w':'n','X':'M','x':'m',\n",
    "         'Y':'L','y':'l','Z':'K','z':'k','!':'J','1':'j',\n",
    "         '@':'I','2':'i','#':'H','3':'h','$':'G','4':'g',\n",
    "         '%':'F','5':'f','^':'E','6':'e','&':'D','7':'d',\n",
    "         '*':'C','8':'c','(':'B','9':'b',')':'A','0':'a',\n",
    "         ':':',',',':':','?':'.','.':'?','<':'>','>':'<',\n",
    "         \"'\":'\"','\"':\"'\",'+':'-­‐','-­‐':'+','=':';',';':'=',\n",
    "         '{':'[','[':'{','}':']',']':'}'}\n",
    "`\n",
    "\n",
    "Using this example, the letter A would be assigned the symbol %, the letter a would\n",
    "be assigned the number 9, the letter B would be assigned the symbol @, and so forth.\n",
    "The program should open a specified text file, read its contents, and then use the\n",
    "dictionary to write an encrypted version of the file’s contents to a second file. Each\n",
    "character in the second file should contain the code for the corresponding character in\n",
    "the first file.\n",
    "\n",
    "Write a second program that opens an encrypted file and displays its decrypted\n",
    "contents on the screen."
   ]
  },
  {
   "cell_type": "code",
   "execution_count": 66,
   "metadata": {},
   "outputs": [
    {
     "name": "stdout",
     "output_type": "stream",
     "text": [
      "Original text:\n",
      "['Business Process Outsourcing Issues', 'Loss of control. Organizations generally have greater control on internal activities.', 'When activities are out-sourced, the vendor exercises primary control on day-to-day', 'activities, and any failure on the part of the vendor will directly impact the client.', 'Potential loss of organizational learning. Innovation and creativity are critical in a', 'knowledge economy. With out-sourcing, employees with critical skills may be lost', 'resulting in adverse effects on the ability of the organization to be innovative.', 'The outsourcing providers may hold the key to new knowledge and exploit it to their advantage.', 'Managing costs. In evaluating any outsourcing proposal, the management needs to', 'examine the sustainability of the perceived cost advantages in the medium to long term.', 'Short-term gains may be offset by long-term losses. Poorly drafted service', 'agreements can lead to unforeseen cost increases during the term of the agreement.', 'If the performance expectations are not clearly spelled out or market conditions change', 'unexpectedly, they may have serious implications on cost considerations. Many costs', 'are intangible, such as potential loss of organizational knowledge and are difficult to', 'quantify. There are also hidden costs such as the cost of managing the outsourcing', 'arrangements, which may outweigh potential cost savings.', 'Cost of mismanagement. Outsourcing is often a major organizational change with', 'serious implications for employee careers, organizational structure, and strategic', 'capabilities. If mismanaged, outsourcing can cause irreparable damage to the future', 'of the organization.']\n"
     ]
    }
   ],
   "source": [
    "with open(\"outsource.txt\") as file:\n",
    "    text = []\n",
    "    for line in file:\n",
    "        text.append(line.rstrip())\n",
    "print(\"Original text:\")\n",
    "print(text)\n",
    "codes = {'A':')','a':'0','B':'(','b':'9','C':'*','c':'8',\n",
    "         'D':'&','d':'7','E':'^','e':'6','F':'%','f':'5',\n",
    "         'G':'$','g':'4','H':'#','h':'3','I':'@','i':'2',\n",
    "         'J':'!','j':'1','K':'Z','k':'z','L':'Y','l':'y',\n",
    "         'M':'X','m':'x','N':'W','n':'w','O':'V','o':'v',\n",
    "         'P':'U','p':'u','Q':'T','q':'t','R':'S','r':'s',\n",
    "         'S':'R','s':'r','T':'Q','t':'q','U':'P','u':'p',\n",
    "         'V':'O','v':'o','W':'N','w':'n','X':'M','x':'m',\n",
    "         'Y':'L','y':'l','Z':'K','z':'k','!':'J','1':'j',\n",
    "         '@':'I','2':'i','#':'H','3':'h','$':'G','4':'g',\n",
    "         '%':'F','5':'f','^':'E','6':'e','&':'D','7':'d',\n",
    "         '*':'C','8':'c','(':'B','9':'b',')':'A','0':'a',\n",
    "         ':':',',',':':','?':'.','.':'?','<':'>','>':'<',\n",
    "         \"'\":'\"','\"':\"'\",'+':'-­‐','-­‐':'+','=':';',';':'=',\n",
    "         '{':'[','[':'{','}':']',']':'}'}\n",
    "codes[\" \"] = \" \"\n",
    "codes[\"-\"] = \"-\""
   ]
  },
  {
   "cell_type": "code",
   "execution_count": 67,
   "metadata": {},
   "outputs": [
    {
     "name": "stdout",
     "output_type": "stream",
     "text": [
      "Encrypted text\n",
      "['(pr2w6rr Usv86rr Vpqrvps82w4 @rrp6r', 'Yvrr v5 8vwqsvy? Vs40w2k0q2vwr 46w6s0yyl 30o6 4s60q6s 8vwqsvy vw 2wq6sw0y 08q2o2q26r?', 'N36w 08q2o2q26r 0s6 vpq-rvps867: q36 o6w7vs 6m6s82r6r us2x0sl 8vwqsvy vw 70l-qv-70l', '08q2o2q26r: 0w7 0wl 502yps6 vw q36 u0sq v5 q36 o6w7vs n2yy 72s68qyl 2xu08q q36 8y26wq?', 'Uvq6wq20y yvrr v5 vs40w2k0q2vw0y y60sw2w4? @wwvo0q2vw 0w7 8s60q2o2ql 0s6 8s2q280y 2w 0', 'zwvny6746 68vwvxl? N2q3 vpq-rvps82w4: 6xuyvl66r n2q3 8s2q280y rz2yyr x0l 96 yvrq', 's6rpyq2w4 2w 07o6sr6 65568qr vw q36 092y2ql v5 q36 vs40w2k0q2vw qv 96 2wwvo0q2o6?', 'Q36 vpqrvps82w4 usvo276sr x0l 3vy7 q36 z6l qv w6n zwvny6746 0w7 6muyv2q 2q qv q362s 07o0wq046?', 'X0w042w4 8vrqr? @w 6o0yp0q2w4 0wl vpqrvps82w4 usvuvr0y: q36 x0w046x6wq w667r qv', '6m0x2w6 q36 rprq02w092y2ql v5 q36 u6s862o67 8vrq 07o0wq046r 2w q36 x672px qv yvw4 q6sx?', 'R3vsq-q6sx 402wr x0l 96 v55r6q 9l yvw4-q6sx yvrr6r? Uvvsyl 7s05q67 r6so286', '04s66x6wqr 80w y607 qv pw5vs6r66w 8vrq 2w8s60r6r 7ps2w4 q36 q6sx v5 q36 04s66x6wq?', '@5 q36 u6s5vsx0w86 6mu68q0q2vwr 0s6 wvq 8y60syl ru6yy67 vpq vs x0sz6q 8vw72q2vwr 830w46', 'pw6mu68q67yl: q36l x0l 30o6 r6s2vpr 2xuy280q2vwr vw 8vrq 8vwr276s0q2vwr? X0wl 8vrqr', '0s6 2wq0w429y6: rp83 0r uvq6wq20y yvrr v5 vs40w2k0q2vw0y zwvny6746 0w7 0s6 725528pyq qv', 'tp0wq25l? Q36s6 0s6 0yrv 32776w 8vrqr rp83 0r q36 8vrq v5 x0w042w4 q36 vpqrvps82w4', '0ss0w46x6wqr: n3283 x0l vpqn6243 uvq6wq20y 8vrq r0o2w4r?', '*vrq v5 x2rx0w046x6wq? Vpqrvps82w4 2r v5q6w 0 x01vs vs40w2k0q2vw0y 830w46 n2q3', 'r6s2vpr 2xuy280q2vwr 5vs 6xuyvl66 80s66sr: vs40w2k0q2vw0y rqsp8qps6: 0w7 rqs0q6428', '80u092y2q26r? @5 x2rx0w0467: vpqrvps82w4 80w 80pr6 2ss6u0s09y6 70x046 qv q36 5pqps6', 'v5 q36 vs40w2k0q2vw?']\n"
     ]
    }
   ],
   "source": [
    "encrypted_text = []\n",
    "for row in text:\n",
    "    encrypted_text.append(\"\".join([codes.get(c) for c in row]))\n",
    "\n",
    "with open(\"encrypted.txt\", \"w\") as file:\n",
    "    for line in encrypted_text:\n",
    "        file.write(line+\"\\n\")\n",
    "print(\"Encrypted text\")\n",
    "print(encrypted_text)"
   ]
  },
  {
   "cell_type": "code",
   "execution_count": 68,
   "metadata": {},
   "outputs": [
    {
     "name": "stdout",
     "output_type": "stream",
     "text": [
      "Decrypted text\n",
      "['Business Process Outsourcing Issues', 'Loss of control. Organizations generally have greater control on internal activities.', 'When activities are out-sourced, the vendor exercises primary control on day-to-day', 'activities, and any failure on the part of the vendor will directly impact the client.', 'Potential loss of organizational learning. Innovation and creativity are critical in a', 'knowledge economy. With out-sourcing, employees with critical skills may be lost', 'resulting in adverse effects on the ability of the organization to be innovative.', 'The outsourcing providers may hold the key to new knowledge and exploit it to their advantage.', 'Managing costs. In evaluating any outsourcing proposal, the management needs to', 'examine the sustainability of the perceived cost advantages in the medium to long term.', 'Short-term gains may be offset by long-term losses. Poorly drafted service', 'agreements can lead to unforeseen cost increases during the term of the agreement.', 'If the performance expectations are not clearly spelled out or market conditions change', 'unexpectedly, they may have serious implications on cost considerations. Many costs', 'are intangible, such as potential loss of organizational knowledge and are difficult to', 'quantify. There are also hidden costs such as the cost of managing the outsourcing', 'arrangements, which may outweigh potential cost savings.', 'Cost of mismanagement. Outsourcing is often a major organizational change with', 'serious implications for employee careers, organizational structure, and strategic', 'capabilities. If mismanaged, outsourcing can cause irreparable damage to the future', 'of the organization.']\n"
     ]
    }
   ],
   "source": [
    "with open(\"encrypted.txt\") as file:\n",
    "    text = []\n",
    "    for line in file:\n",
    "        text.append(line.rstrip())\n",
    "        \n",
    "decodes = {v: k for k, v in codes.items()}\n",
    "\n",
    "decrypted_text = []\n",
    "for row in text:\n",
    "    decrypted_text.append(\"\".join([decodes.get(c) for c in row]))\n",
    "print(\"Decrypted text\")\n",
    "print(decrypted_text)"
   ]
  }
 ],
 "metadata": {
  "kernelspec": {
   "display_name": "Python 3",
   "language": "python",
   "name": "python3"
  },
  "language_info": {
   "codemirror_mode": {
    "name": "ipython",
    "version": 3
   },
   "file_extension": ".py",
   "mimetype": "text/x-python",
   "name": "python",
   "nbconvert_exporter": "python",
   "pygments_lexer": "ipython3",
   "version": "3.6.6"
  }
 },
 "nbformat": 4,
 "nbformat_minor": 2
}
