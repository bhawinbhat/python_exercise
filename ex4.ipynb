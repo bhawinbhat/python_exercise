{
 "cells": [
  {
   "cell_type": "markdown",
   "metadata": {},
   "source": [
    "#### 1. Caesar Cipher\n",
    "A Caesar cipher encrypts a message by shifting letters in the alphabet. For example, a\n",
    "shift of 4 maps 'a' to 'e' and maps 'p' to 't' Here is a famous line from\n",
    "Shakespeare encrypted with a shift of 4: “vq\n",
    "dg\n",
    "qt\n",
    "pqv\n",
    "vq\n",
    "dg:\n",
    "vjcv\n",
    "ku\n",
    "vjg\n",
    "swguvkqp.”\n",
    "Write a program that asks the user to enter a string to be encrypted and an integer"
   ]
  },
  {
   "cell_type": "code",
   "execution_count": 6,
   "metadata": {},
   "outputs": [
    {
     "name": "stdout",
     "output_type": "stream",
     "text": [
      "your message: vq dg qt pqv vq dg: vjcv ku vjg swguvkqp.\n",
      "number of shift: -2\n",
      "------------------------------\n",
      "to be or not to be: that is the question.\n"
     ]
    }
   ],
   "source": [
    "from string import ascii_lowercase as alphabet\n",
    "\n",
    "\n",
    "def caesar_cipher(msg, shift):\n",
    "    cc_pair = zip(alphabet, alphabet[shift:]+alphabet[:shift])\n",
    "    cc_dict = dict(cc_pair)\n",
    "    cc_dict[\" \"] = \" \"\n",
    "    cc_dict[\":\"] = \":\"\n",
    "    cc_dict[\".\"] = \".\"\n",
    "    mgs_shift = \"\".join(cc_dict.get(c) for c in msg.lower())\n",
    "    return mgs_shift\n",
    "\n",
    "\n",
    "message = input(\"your message: \")\n",
    "shift = int(input(\"number of shift: \"))\n",
    "print(\"-\"*30)\n",
    "print(caesar_cipher(message, shift))"
   ]
  },
  {
   "cell_type": "markdown",
   "metadata": {},
   "source": [
    "#### 2. Common Letters\n",
    "Write a program that asks the user to enter a person’s first and last names and\n",
    "\n",
    "&nbsp;&nbsp;&nbsp;&nbsp;(a) uses lists to return a list of the common letters in the first and last names (the\n",
    "intersection).\n",
    "\n",
    "&nbsp;&nbsp;&nbsp;&nbsp;(b) uses sets to return a set that is the intersection of the characters in the first and last\n",
    "names."
   ]
  },
  {
   "cell_type": "code",
   "execution_count": 5,
   "metadata": {},
   "outputs": [
    {
     "name": "stdout",
     "output_type": "stream",
     "text": [
      "first name: prayut\n",
      "last name: chanocha\n",
      "------------------------------\n",
      "['a']\n",
      "------------------------------\n",
      "{'a'}\n"
     ]
    }
   ],
   "source": [
    "def get_unique(lst):\n",
    "    unique_list = []\n",
    "    for l in lst:\n",
    "        if l not in unique_list:\n",
    "            unique_list.append(l)\n",
    "    return unique_list\n",
    "\n",
    "\n",
    "first_name = input(\"first name: \")\n",
    "last_name = input(\"last name: \")\n",
    "\n",
    "first_name = [x for x in first_name]\n",
    "last_name = [x for x in last_name]\n",
    "\n",
    "first_name_unique = get_unique(first_name)\n",
    "last_name_unique = get_unique(last_name)\n",
    "\n",
    "common_list = []\n",
    "for l in first_name_unique:\n",
    "    if l in last_name_unique:\n",
    "        common_list.append(l)\n",
    "print(\"-\"*30)\n",
    "print(common_list)\n",
    "\n",
    "first_name_set = set(first_name)\n",
    "last_name_set = set(last_name)\n",
    "intersection_set = first_name_set & last_name_set\n",
    "print(\"-\"*30)\n",
    "print(intersection_set)"
   ]
  },
  {
   "cell_type": "markdown",
   "metadata": {},
   "source": [
    "#### 3. Capital Cities\n",
    "Create a dictionary that maps countries to their capitals. You may start with an empty\n",
    "dictionary. Ask the user to input the name of the country and its capital and add them\n",
    "to the dictionary. E.g.,\n",
    "capitals\n",
    "=\n",
    "{\n",
    "'Japan':'Tokyo',\n",
    "'France':'Paris',\n",
    "'Thailand':\n",
    "'Bangkok'}\n",
    "Once the dictionary is created, print the capitals in alphabetical order."
   ]
  },
  {
   "cell_type": "code",
   "execution_count": 4,
   "metadata": {},
   "outputs": [
    {
     "name": "stdout",
     "output_type": "stream",
     "text": [
      "Country: Japan\n",
      "Capital: Tokyo\n",
      "Country: France\n",
      "Capital: Paris\n",
      "Country: Thailand\n",
      "Capital: Bangkok\n",
      "Country: quit\n",
      "------------------------------\n",
      "France : Paris\n",
      "Japan : Tokyo\n",
      "Thailand : Bangkok\n"
     ]
    }
   ],
   "source": [
    "country_capital_dict = dict()\n",
    "while True:\n",
    "    country = input(\"Country: \")\n",
    "    if country.lower() == \"quit\":\n",
    "        break\n",
    "    capital = input(\"Capital: \")\n",
    "    country_capital_dict[country] = capital\n",
    "\n",
    "key_list = sorted(country_capital_dict.keys())\n",
    "print(\"-\"*30)\n",
    "for key in key_list:\n",
    "    print(key, \":\", country_capital_dict.get(key))"
   ]
  },
  {
   "cell_type": "markdown",
   "metadata": {},
   "source": [
    "#### 4. Cities Report\n",
    "Consider a file in which every line is of the format City,\n",
    "Country. Read the file,\n",
    "record the information in a dictionary, and report the number of cities in each country.\n",
    "For example, if the file contains\n",
    "\n",
    "&nbsp;&nbsp;&nbsp;&nbsp;London, UK\n",
    "\n",
    "&nbsp;&nbsp;&nbsp;&nbsp;Chicago, US\n",
    "\n",
    "&nbsp;&nbsp;&nbsp;&nbsp;Detroit, US\n",
    "\n",
    "The output will be:\n",
    "    \n",
    "&nbsp;&nbsp;&nbsp;&nbsp;UK : 1\n",
    "\n",
    "&nbsp;&nbsp;&nbsp;&nbsp;US : 2"
   ]
  },
  {
   "cell_type": "code",
   "execution_count": 8,
   "metadata": {},
   "outputs": [
    {
     "name": "stdout",
     "output_type": "stream",
     "text": [
      "{'London': 'UK', 'Chicago': 'US', 'Detroit': 'US'}\n",
      "------------------------------\n",
      "{'UK': 1, 'US': 2}\n"
     ]
    }
   ],
   "source": [
    "with open(\"text.txt\") as file:\n",
    "    lst = []\n",
    "    for line in file:\n",
    "        lst.append(line.strip())\n",
    "\n",
    "city_dict = dict()\n",
    "for l in lst:\n",
    "    city, country = l.split(\", \")\n",
    "    city_dict[city] = country\n",
    "print(city_dict)\n",
    "\n",
    "count_dict = dict()\n",
    "for item in city_dict.values():\n",
    "    count_dict[item] = count_dict.get(item, 0)+1\n",
    "print(\"-\"*30)\n",
    "print(count_dict)"
   ]
  },
  {
   "cell_type": "markdown",
   "metadata": {},
   "source": [
    "#### 5. Numbers to Words Conversion\n",
    "Use a dictionary to create a program that asks the user to enter an integer and prints\n",
    "out the integer using words. For example: 138 will print “one three eight”."
   ]
  },
  {
   "cell_type": "code",
   "execution_count": 9,
   "metadata": {},
   "outputs": [
    {
     "name": "stdout",
     "output_type": "stream",
     "text": [
      "number: 138\n",
      "one three eight "
     ]
    }
   ],
   "source": [
    "numword = ['one', 'two', 'three', 'four', 'five', 'six', 'seven', 'eight', 'nine', 'ten']\n",
    "numword_dict = dict()\n",
    "for i in range(1, 11):\n",
    "    numword_dict[i] = numword[i-1]\n",
    "\n",
    "user_integer = input(\"number: \")\n",
    "for num in user_integer:\n",
    "    print(numword_dict[int(num)], end=\" \")"
   ]
  },
  {
   "cell_type": "markdown",
   "metadata": {},
   "source": [
    "##### 6. Capital Quiz\n",
    "Write a program that creates a dictionary containing the U.S. states as keys and their\n",
    "capitals as values. (Use the Internet to get a list of the states and their capitals.) The\n",
    "program should then randomly quiz the user for 5 times by displaying the name of a\n",
    "state and asking the user to enter that state’s capital. The program should keep a count\n",
    "of the number of correct and incorrect responses."
   ]
  },
  {
   "cell_type": "code",
   "execution_count": 2,
   "metadata": {},
   "outputs": [
    {
     "name": "stdout",
     "output_type": "stream",
     "text": [
      "The capital of \"Michigan\" is IDK\n",
      "Wrong!\n",
      "The answer is \"Lansing\".\n",
      "Your score is 0\n",
      "------------------------------\n",
      "The capital of \"Florida\" is Tallahassee\n",
      "Correct!\n",
      "Your score is 1\n",
      "------------------------------\n",
      "The capital of \"Tennessee\" is Nashville\n",
      "Correct!\n",
      "Your score is 2\n",
      "------------------------------\n",
      "The capital of \"New york\" is quit\n",
      "Exit quiz\n"
     ]
    }
   ],
   "source": [
    "import random\n",
    "with open(\"state_capital.csv\") as file:\n",
    "    capitals_dict = dict()\n",
    "    for line in file:\n",
    "        line = line.strip()\n",
    "        state, capital = line.split(\",\")\n",
    "        capitals_dict[state] = capital\n",
    "del capitals_dict['state']\n",
    "\n",
    "score = 0\n",
    "while True:\n",
    "    quiz = random.choices(list(capitals_dict.keys()))\n",
    "    answer = input(\"The capital of \\\"\"+quiz[0].capitalize()+\"\\\" is \")\n",
    "    if answer == 'quit':\n",
    "        print(\"Exit quiz\")\n",
    "        break\n",
    "    if answer == capitals_dict[quiz[0]]:\n",
    "        print(\"Correct!\")\n",
    "        score += 1\n",
    "    else:\n",
    "        print(\"Wrong!\")\n",
    "        print(\"The answer is\", \"\\\"\"+capitals_dict[quiz[0]]+\"\\\".\")\n",
    "    print(\"Your score is\", score)\n",
    "    print(\"-\"*30)"
   ]
  },
  {
   "cell_type": "markdown",
   "metadata": {},
   "source": [
    "#### 7. Random Number Frequencies\n",
    "Write a program that generates 100 random numbers between 1 and 10. The program\n",
    "should store the frequency of each number generated in a dictionary with the number\n",
    "as the key and the amount of times it has occurred as the value. For example, if the\n",
    "program generates the number 6 a total of 11 times, the dictionary will contain a key\n",
    "of 6 with an associated value of 11. Once all of the numbers have been generated,\n",
    "display information about the frequency of each number."
   ]
  },
  {
   "cell_type": "code",
   "execution_count": 3,
   "metadata": {},
   "outputs": [
    {
     "name": "stdout",
     "output_type": "stream",
     "text": [
      "{1: 13, 2: 13, 3: 9, 4: 8, 5: 7, 6: 6, 7: 10, 8: 12, 9: 11, 10: 11}\n"
     ]
    }
   ],
   "source": [
    "import random\n",
    "numbers = sorted([random.randint(1, 10) for i in range(1, 101)])\n",
    "freq_dict = dict()\n",
    "for num in numbers:\n",
    "    freq_dict[num] = freq_dict.get(num, 0)+1\n",
    "print(freq_dict)"
   ]
  },
  {
   "cell_type": "markdown",
   "metadata": {},
   "source": [
    "#### 8. File Analysis\n",
    "Write a program that reads the contents of two text files and compares them in the\n",
    "following ways:\n",
    "• It should display a list of all the unique words contained in both files.\n",
    "• It should display a list of the words that appear in both files.\n",
    "• It should display a list of the words that appear in the second file but not the first.\n",
    "• It should display a list of the words that appear in either the first or second file but\n",
    "not both."
   ]
  },
  {
   "cell_type": "code",
   "execution_count": 4,
   "metadata": {
    "scrolled": true
   },
   "outputs": [
    {
     "name": "stdout",
     "output_type": "stream",
     "text": [
      "\n",
      "------------------------------\n",
      "Trump\n",
      "{'criticised', 'in', 'mr', 'oversee', 'several', 'for', 'russian', 'charges', 'criminal', 'law', 'refusal', 'months', 'wide-ranging', 'top', 'series', 'has', 'meddling', 'ago', 'campaign', 'staff', 'between', 'the', 'and', 'into', 'official', 'sessions', 'special', 'to', 'robert', 'over', 'whitaker', 'russia', 'election', 'investigating', 'take', 'two', 'had', 'is', 'chief', 'against', 'investigation', 'counsel', 'a', 'inquiry', 'collusion', 'matthew', 'his', 'mainly', 'mueller', 'will', 'trump', 'years', 'temporarily', 'alleged', 'favour', 'resulted', 'associates', 'of', 'who'}\n",
      "['a', 'against', 'ago', 'alleged', 'alleged', 'and', 'associates', 'between', 'campaign', 'charges', 'chief', 'collusion', 'counsel', 'criminal', 'criticised', 'criticised', 'election', 'favour', 'for', 'had', 'has', 'has', 'his', 'his', 'in', 'in', 'in', 'inquiry', 'into', 'investigating', 'investigation', 'investigation', 'is', 'law', 'mainly', 'matthew', 'meddling', 'months', 'mr', 'mr', 'mr', 'mr', 'mueller', 'mueller', 'of', 'of', 'of', 'official', 'over', 'over', 'oversee', 'refusal', 'resulted', 'robert', 'russia', 'russian', 'series', 'sessions', 'several', 'special', 'staff', 'take', 'temporarily', 'the', 'the', 'the', 'to', 'top', 'trump', 'trump', 'trump', 'trump', 'two', 'whitaker', 'who', 'wide-ranging', 'will', 'years']\n",
      "\n",
      "------------------------------\n",
      "Democart\n",
      "{'in', 'elections', 'democrats', 'held', 'for', 'jersey', 'new', 'virginia', 'remainder', 'tuesday', 'gains', 'next', 'but', 'dealt', 'agenda', 'republican', 'representatives', \"democrats'\", 'donald', 'senate', 'the', 'poll', 'and', 'hopes', 'on', 'projected', 're-election', 'to', 'us', 'indiana', 'west', 'house', 'blow', 'predict', 'take', 'two', 'is', 'president', 'have', 'significant', 'mid-term', 'ally', 'legislative', 'unseat', 'not', 'both', 'chambers', 'chamber', 'a', 'incumbent', 'office', 'they', 'senators', 'currently', 'been', 'also', 'his', 'up', 'will', 'winning', 'an', 'control', 'democratic', 'networks', 'republicans', 'trump', 'years', 'shape', 'scored', 'of'}\n",
      "['a', 'a', 'agenda', 'ally', 'also', 'an', 'and', 'and', 'been', 'blow', 'both', 'but', 'but', 'chamber', 'chambers', 'control', 'control', 'control', 'currently', 'dealt', 'democratic', 'democrats', \"democrats'\", 'donald', 'elections', 'for', 'for', 'gains', 'have', 'held', 'his', 'his', 'hopes', 'house', 'in', 'in', 'in', 'in', 'in', 'in', 'incumbent', 'indiana', 'is', 'is', 'jersey', 'legislative', 'mid-term', 'networks', 'new', 'next', 'not', 'of', 'of', 'of', 'of', 'of', 'office', 'on', 'poll', 'predict', 'president', 'projected', 're-election', 'remainder', 'representatives', 'republican', 'republicans', 'scored', 'senate', 'senators', 'shape', 'significant', 'take', 'the', 'the', 'the', 'the', 'the', 'the', 'the', 'they', 'to', 'trump', 'trump', 'tuesday', 'two', 'two', 'two', 'unseat', 'up', 'us', 'us', 'virginia', 'west', 'will', 'will', 'winning', 'years', 'years']\n",
      "\n",
      "------------------------------\n",
      "In Democrat but not Trump\n",
      "{'elections', 'democrats', 'held', 'jersey', 'new', 'virginia', 'remainder', 'tuesday', 'gains', 'next', 'but', 'dealt', 'agenda', 'republican', 'representatives', \"democrats'\", 'donald', 'senate', 'poll', 'hopes', 'on', 'projected', 're-election', 'us', 'west', 'indiana', 'house', 'blow', 'predict', 'president', 'have', 'significant', 'mid-term', 'ally', 'legislative', 'unseat', 'not', 'both', 'chambers', 'chamber', 'incumbent', 'office', 'they', 'senators', 'currently', 'been', 'also', 'up', 'winning', 'an', 'control', 'democratic', 'networks', 'republicans', 'scored', 'shape'}\n",
      "\n",
      "------------------------------\n",
      "Either the Trump or Democrat file but not both.\n",
      "{'oversee', 'democrats', 'jersey', 'new', 'virginia', 'remainder', 'criminal', 'wide-ranging', 'top', 'series', 'next', 'but', 'has', 'agenda', \"democrats'\", 'senate', 'between', 'official', 'sessions', 'hopes', 'on', 're-election', 'house', 'robert', 'whitaker', 'blow', 'investigating', 'had', 'president', 'significant', 'mid-term', 'ally', 'legislative', 'unseat', 'against', 'investigation', 'counsel', 'inquiry', 'collusion', 'currently', 'mainly', 'winning', 'democratic', 'temporarily', 'favour', 'scored', 'resulted', 'associates', 'mr', 'elections', 'criticised', 'held', 'several', 'russian', 'charges', 'tuesday', 'refusal', 'months', 'gains', 'dealt', 'meddling', 'republican', 'ago', 'representatives', 'campaign', 'donald', 'staff', 'poll', 'into', 'special', 'projected', 'west', 'us', 'indiana', 'over', 'predict', 'russia', 'election', 'have', 'chief', 'not', 'both', 'chambers', 'chamber', 'incumbent', 'office', 'they', 'senators', 'matthew', 'been', 'also', 'mueller', 'up', 'an', 'control', 'networks', 'republicans', 'alleged', 'law', 'shape', 'who'}\n"
     ]
    }
   ],
   "source": [
    "def clean_read(filename):\n",
    "    with open(filename) as file:\n",
    "        text = file.read()\n",
    "        text = text.replace(\"\\n\", \" \")\n",
    "        text = text.replace(\"'s\", \"\")\n",
    "        text = text.replace(\",\", \"\")\n",
    "        text = text.replace(\".\", \"\")\n",
    "        text = text.lower()\n",
    "        text_list = text.split(\" \")\n",
    "        text_list = sorted(text_list)\n",
    "    return text_list\n",
    "\n",
    "\n",
    "print(\"\\n\"+\"-\"*30)\n",
    "print(\"Trump\")\n",
    "trump = clean_read(\"trump.txt\")\n",
    "unique_trump = set(trump)\n",
    "print(unique_trump)\n",
    "print(trump)\n",
    "\n",
    "print(\"\\n\"+\"-\"*30)\n",
    "print(\"Democart\")\n",
    "demo = clean_read(\"democrat.txt\")\n",
    "unique_demo = set(demo)\n",
    "print(unique_demo)\n",
    "print(demo)\n",
    "\n",
    "print(\"\\n\"+\"-\"*30)\n",
    "print(\"In Democrat but not Trump\")\n",
    "print(unique_demo-unique_trump)\n",
    "\n",
    "print(\"\\n\"+\"-\"*30)\n",
    "print(\"Either the Trump or Democrat file but not both.\")\n",
    "print(unique_trump ^ unique_demo)"
   ]
  },
  {
   "cell_type": "markdown",
   "metadata": {},
   "source": [
    "#### 9. Name and Email Addresses\n",
    "Write a program that keeps names and email addresses in a dictionary as key-value\n",
    "pairs. The program should display a menu that lets the user look up a person’s email\n",
    "address, add a new name and email address, change an existing email address, and\n",
    "delete an existing name and email address."
   ]
  },
  {
   "cell_type": "code",
   "execution_count": 1,
   "metadata": {},
   "outputs": [
    {
     "name": "stdout",
     "output_type": "stream",
     "text": [
      "------------------------------\n",
      "What do you want to do?\n",
      "Look up or Add or Delete or Change or Quit?: Add\n",
      "Name: Prayut\n",
      "Email: prayut.cha@hotmail.com\n",
      "Add successfully!\n",
      "------------------------------\n",
      "What do you want to do?\n",
      "Look up or Add or Delete or Change or Quit?: Look up\n",
      "Which name are you looking for?: Prayut\n",
      "prayut.cha@hotmail.com\n",
      "------------------------------\n",
      "What do you want to do?\n",
      "Look up or Add or Delete or Change or Quit?: Change\n",
      "Which name do you want to change email?: Prayut\n",
      "Enter new email: prayut.cha@outlook.com\n",
      "Change successfully!\n",
      "------------------------------\n",
      "What do you want to do?\n",
      "Look up or Add or Delete or Change or Quit?: Delete\n",
      "Which name do you want to delect?: Prayut\n",
      "Delete successfully!\n",
      "------------------------------\n",
      "What do you want to do?\n",
      "Look up or Add or Delete or Change or Quit?: Look up\n",
      "Which name are you looking for?: Prayut\n",
      "There is no \"Prayut\" in the database.\n",
      "------------------------------\n",
      "What do you want to do?\n",
      "Look up or Add or Delete or Change or Quit?: quit\n"
     ]
    }
   ],
   "source": [
    "name_email_dict = dict()\n",
    "while True:\n",
    "    print(\"-\"*30)\n",
    "    print(\"What do you want to do?\")\n",
    "    task = input(\"Look up or Add or Delete or Change or Quit?: \")\n",
    "    if task.lower() == \"quit\":\n",
    "        break\n",
    "\n",
    "    if task.lower() == \"look up\":\n",
    "        name = input(\"Which name are you looking for?: \")\n",
    "        email = name_email_dict.get(name)\n",
    "        if email is None:\n",
    "            print(\"There is no\", \"\\\"\"+name+\"\\\"\", \"in the database.\")\n",
    "        else:\n",
    "            print(email)\n",
    "    elif task.lower() == \"add\":\n",
    "        name = input(\"Name: \")\n",
    "        email = input(\"Email: \")\n",
    "        name_email_dict[name] = email\n",
    "        print(\"Add successfully!\")\n",
    "    elif task.lower() == \"delete\":\n",
    "        name = input(\"Which name do you want to delect?: \")\n",
    "        del name_email_dict[name]\n",
    "        print(\"Delete successfully!\")\n",
    "    elif task.lower() == \"change\":\n",
    "         name = input(\"Which name do you want to change email?: \")\n",
    "         email = input(\"Enter new email: \")\n",
    "         name_email_dict[name] = email\n",
    "         print(\"Change successfully!\")\n",
    "    else:\n",
    "        print(\"There is no such function!!!\")"
   ]
  },
  {
   "cell_type": "markdown",
   "metadata": {},
   "source": [
    "#### 10. Word Index\n",
    "Write a program that reads the contents of a text file. The program should create a\n",
    "dictionary in which the key-value pairs are described as follows:\n",
    "• Key. The keys are the individual words found in the file.\n",
    "• Values. Each value is a list that contains the line numbers in the file where the\n",
    "word (the key) is found.\n",
    "For example, suppose the word “robot” is found in lines 7, 18, 94, and 138. The\n",
    "dictionary would contain an element in which the key was the string “robot”, and the\n",
    "value was a list containing the numbers 7, 18, 94, and 138."
   ]
  },
  {
   "cell_type": "code",
   "execution_count": 5,
   "metadata": {},
   "outputs": [
    {
     "name": "stdout",
     "output_type": "stream",
     "text": [
      "{'a': [3], 'against': [3], 'ago': [0], 'alleged': [0, 2], 'and': [2], 'associates': [3], 'between': [2], 'campaign': [2], 'charges': [3], 'chief': [1], 'collusion': [2], 'counsel': [2], 'criminal': [3], 'criticised': [0, 1], 'election': [0], 'favour': [0], 'for': [0], 'had': [0], 'has': [1, 3], 'his': [0], 'in': [0, 3], 'inquiry': [1], 'into': [0], 'investigating': [2], 'investigation': [0, 3], 'is': [2], 'law': [0], 'mainly': [0], 'matthew': [1], 'meddling': [0], 'months': [0], 'mr': [0, 1, 3], 'mueller': [2, 3], 'of': [0, 1, 3], 'official': [0], 'over': [0, 1], 'oversee': [0], 'refusal': [0], 'resulted': [3], 'robert': [2], 'russia': [2], 'russian': [0], 'series': [3], 'sessions': [1], 'several': [3], 'special': [2], 'staff': [1], 'take': [1], 'temporarily': [1], 'the': [0, 1, 2], 'to': [0], 'top': [0], 'trump': [0, 2, 3], 'two': [0], 'whitaker': [1], 'who': [1], 'wide-ranging': [3], 'will': [1], 'years': [0]}\n"
     ]
    }
   ],
   "source": [
    "def clean_read(filename):\n",
    "    with open(filename) as file:\n",
    "        text = file.read()\n",
    "        text = text.replace(\"\\n\", \" \")\n",
    "        text = text.replace(\"'s\", \"\")\n",
    "        text = text.replace(\",\", \"\")\n",
    "        text = text.replace(\".\", \"\")\n",
    "        text = text.lower()\n",
    "        text_list = text.split(\" \")\n",
    "        text_list = sorted(text_list)\n",
    "    return text_list\n",
    "\n",
    "\n",
    "def clean(text):\n",
    "    text = text.replace(\"\\n\", \" \")\n",
    "    text = text.replace(\"'s\", \"\")\n",
    "    text = text.replace(\",\", \"\")\n",
    "    text = text.replace(\".\", \"\")\n",
    "    text = text.lower()\n",
    "    text_list = text.split(\" \")\n",
    "    return text_list\n",
    "\n",
    "\n",
    "trump = clean_read(\"trump.txt\")\n",
    "unique_trump = sorted(list(set(trump)))\n",
    "\n",
    "word_numline = dict()\n",
    "for word in unique_trump:\n",
    "    line_list = []\n",
    "    with open(\"trump.txt\") as file:\n",
    "        for numline, line in enumerate(file, 0):\n",
    "            line = clean(line)\n",
    "            if word in line:\n",
    "                line_list.append(numline)\n",
    "        word_numline[word] = line_list\n",
    "\n",
    "print(word_numline)"
   ]
  }
 ],
 "metadata": {
  "kernelspec": {
   "display_name": "Python 3",
   "language": "python",
   "name": "python3"
  },
  "language_info": {
   "codemirror_mode": {
    "name": "ipython",
    "version": 3
   },
   "file_extension": ".py",
   "mimetype": "text/x-python",
   "name": "python",
   "nbconvert_exporter": "python",
   "pygments_lexer": "ipython3",
   "version": "3.6.6"
  }
 },
 "nbformat": 4,
 "nbformat_minor": 2
}
